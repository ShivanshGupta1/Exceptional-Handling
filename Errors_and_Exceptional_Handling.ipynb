{
  "nbformat": 4,
  "nbformat_minor": 0,
  "metadata": {
    "colab": {
      "name": "Errors and Exceptional Handling.ipynb",
      "provenance": [],
      "authorship_tag": "ABX9TyMDzc5sQIUqvgI0O25v9jOZ",
      "include_colab_link": true
    },
    "kernelspec": {
      "name": "python3",
      "display_name": "Python 3"
    }
  },
  "cells": [
    {
      "cell_type": "markdown",
      "metadata": {
        "id": "view-in-github",
        "colab_type": "text"
      },
      "source": [
        "<a href=\"https://colab.research.google.com/github/ShivanshGupta1/Exceptional-Handling/blob/main/Errors_and_Exceptional_Handling.ipynb\" target=\"_parent\"><img src=\"https://colab.research.google.com/assets/colab-badge.svg\" alt=\"Open In Colab\"/></a>"
      ]
    },
    {
      "cell_type": "code",
      "metadata": {
        "colab": {
          "base_uri": "https://localhost:8080/"
        },
        "id": "d92O_r41AGlq",
        "outputId": "1efaec33-5aae-4cbb-8d7d-67cdfb1cfb36"
      },
      "source": [
        "#Errors is a mistake in the program\n",
        "#Errors can be of many types, 2 most prominent are Syntax Error and Logical Error\n",
        "#Exceptional Handling - When an exception is seen in the program and the error is caught, and does not crash the entire program, it is known as exceptional handling\n",
        "def divide():#This is the function to divide\n",
        "  firstNumber = int(input(\"What is your first number? \"))\n",
        "  secondNumber = int(input(\"What is your second number? \"))\n",
        "  print(firstNumber/secondNumber)\n",
        "try:#This tries to execute the program unless an error is caught\n",
        "  divide();\n",
        "except ZeroDivisionError:#This catches the error without crashing/stopping the entire program and does what is there in its body\n",
        "  print(\"Cannot divide be zero\")#This prints this message\n",
        "except ValueError:\n",
        "  print(\"Cannot divide by string\")#This prints this message"
      ],
      "execution_count": null,
      "outputs": [
        {
          "output_type": "stream",
          "text": [
            "What is your first number? sdfg\n",
            "Cannot divide by string\n"
          ],
          "name": "stdout"
        }
      ]
    },
    {
      "cell_type": "code",
      "metadata": {
        "colab": {
          "base_uri": "https://localhost:8080/"
        },
        "id": "X5sTo1ulCMXq",
        "outputId": "33eb513b-aeba-42c2-9d10-b945d4da8d84"
      },
      "source": [
        "#Errors is a mistake in the program\n",
        "#Errors can be of many types, 2 most prominent are Syntax Error and Logical Error\n",
        "#Exceptional Handling - When an exception is seen in the program and the error is caught, and does not crash the entire program, it is known as exceptional handling\n",
        "division = 0\n",
        "def divide():#This is the function to divide\n",
        "  global division\n",
        "  firstNumber = int(input(\"What is your first number? \"))\n",
        "  secondNumber = int(input(\"What is your second number? \"))\n",
        "  division = firstNumber/secondNumber\n",
        "try:#This tries to execute the program unless an error is caught, this tries to check for an error\n",
        "  divide()\n",
        "except ZeroDivisionError:#This catches the error without crashing/stopping the entire program and does what is there in its body\n",
        "  print(\"Cannot divide be zero\")#This prints this message\n",
        "except ValueError:\n",
        "  print(\"Cannot divide by string\")#This prints this message\n",
        "else:#This executes if no error\n",
        "  print(division)\n",
        "finally:#This executes irrespective of any error or not\n",
        "  print(\"Thank You For Your Time\")"
      ],
      "execution_count": null,
      "outputs": [
        {
          "output_type": "stream",
          "text": [
            "What is your first number? 20\n",
            "What is your second number? 3\n",
            "6.666666666666667\n",
            "Thank You For Your Time\n"
          ],
          "name": "stdout"
        }
      ]
    }
  ]
}